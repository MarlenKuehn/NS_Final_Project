{
 "cells": [
  {
   "cell_type": "code",
   "execution_count": 11,
   "id": "521a2520",
   "metadata": {},
   "outputs": [
    {
     "name": "stdout",
     "output_type": "stream",
     "text": [
      "File 1 columns: Index(['internalTaxonId', 'scientificName', 'kingdomName', 'phylumName',\n",
      "       'className', 'orderName', 'familyName', 'genusName', 'speciesName',\n",
      "       'infraType', 'infraName', 'infraAuthority', 'subpopulationName',\n",
      "       'authority', 'taxonomicNotes'],\n",
      "      dtype='object')\n",
      "File 2 columns: Index(['assessmentId', 'internalTaxonId', 'scientificName', 'redlistCategory',\n",
      "       'redlistCriteria', 'yearPublished', 'assessmentDate', 'criteriaVersion',\n",
      "       'language', 'rationale', 'habitat', 'threats', 'population',\n",
      "       'populationTrend', 'range', 'useTrade', 'systems',\n",
      "       'conservationActions', 'realm', 'yearLastSeen', 'possiblyExtinct',\n",
      "       'possiblyExtinctInTheWild', 'scopes', 'Sequence', 'Family1', 'Order1',\n",
      "       'Avibase.ID1', 'Total.individuals', 'Female', 'Male', 'Unknown',\n",
      "       'Complete.measures', 'Beak.Length_Culmen', 'Beak.Length_Nares',\n",
      "       'Beak.Width', 'Beak.Depth', 'Tarsus.Length', 'Wing.Length',\n",
      "       'Kipps.Distance', 'Secondary1', 'Hand-Wing.Index', 'Tail.Length',\n",
      "       'Mass', 'Mass.Source', 'Mass.Refs.Other', 'Inference',\n",
      "       'Traits.inferred', 'Reference.species', 'Habitat', 'Habitat.Density',\n",
      "       'Migration', 'Trophic.Level', 'Trophic.Niche', 'Primary.Lifestyle',\n",
      "       'Min.Latitude', 'Max.Latitude', 'Centroid.Latitude',\n",
      "       'Centroid.Longitude', 'Range.Size'],\n",
      "      dtype='object')\n",
      "CSV files have been merged and saved as 'merged_data_file.csv'.\n"
     ]
    }
   ],
   "source": [
    "import pandas as pd\n",
    "\n",
    "# Load the two CSV files\n",
    "file1 = 'Network Science/Final Project/redlist_species_data_ee70e5e0-84fb-4f49-8ec6-68c24539d35c/taxonomy.csv'  # Replace with the path to your first CSV file\n",
    "file2 = 'Network Science/Final Project/merged_file.csv'  # Replace with the path to your second CSV file\n",
    "\n",
    "#df1 = pd.read_csv(file1)\n",
    "#df2 = pd.read_csv(file2)\n",
    "\n",
    "df1 = pd.read_csv(file1, encoding='latin1', on_bad_lines='skip', engine='python')  # or ISO-8859-1\n",
    "df2 = pd.read_csv(file2, encoding='latin1', on_bad_lines='skip', engine='python')  # or ISO-8859-1\n",
    "\n",
    "# Print column names to verify\n",
    "print(\"File 1 columns:\", df1.columns)\n",
    "print(\"File 2 columns:\", df2.columns)\n",
    "\n",
    "# Merge the two dataframes on the column 'scientificName'\n",
    "merged_df = pd.merge(df1, df2, on='scientificName', how='inner')  # Change 'inner' to 'outer', 'left', or 'right' as needed\n",
    "\n",
    "# Save the merged dataframe to a new CSV file\n",
    "merged_df.to_csv('merged_file.csv', index=False)\n",
    "\n",
    "print(\"CSV files have been merged and saved as 'merged_data_file.csv'.\")"
   ]
  },
  {
   "cell_type": "code",
   "execution_count": null,
   "id": "a564e850",
   "metadata": {},
   "outputs": [],
   "source": []
  }
 ],
 "metadata": {
  "kernelspec": {
   "display_name": "Python 3 (ipykernel)",
   "language": "python",
   "name": "python3"
  },
  "language_info": {
   "codemirror_mode": {
    "name": "ipython",
    "version": 3
   },
   "file_extension": ".py",
   "mimetype": "text/x-python",
   "name": "python",
   "nbconvert_exporter": "python",
   "pygments_lexer": "ipython3",
   "version": "3.11.7"
  }
 },
 "nbformat": 4,
 "nbformat_minor": 5
}
